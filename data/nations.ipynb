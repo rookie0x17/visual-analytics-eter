{
 "metadata": {
  "language_info": {
   "codemirror_mode": {
    "name": "ipython",
    "version": 3
   },
   "file_extension": ".py",
   "mimetype": "text/x-python",
   "name": "python",
   "nbconvert_exporter": "python",
   "pygments_lexer": "ipython3",
   "version": "3.8.6-final"
  },
  "orig_nbformat": 2,
  "kernelspec": {
   "name": "python3",
   "display_name": "Python 3.8.6 64-bit",
   "metadata": {
    "interpreter": {
     "hash": "31f2aee4e71d21fbe5cf8b01ff0e069b9275f58929596ceb00d14d90e3e16cd6"
    }
   }
  }
 },
 "nbformat": 4,
 "nbformat_minor": 2,
 "cells": [
  {
   "cell_type": "code",
   "execution_count": 99,
   "metadata": {},
   "outputs": [
    {
     "output_type": "stream",
     "name": "stdout",
     "text": [
      "Index(['ETER_ID_year', 'ETER_ID', 'institution_name',\n       'english_institution_name', 'reference_year', 'country_code',\n       'name_of_the_city', 'latitude', 'longitude',\n       'personnel_expenditure(PPP)', 'non-personnel_expenditure(PPP)',\n       'expenditure_unclassified(PPP)', 'total_current_expenditure(PPP)',\n       'capital_expenditure_(PPP)', 'total_core_budget(PPP)',\n       'total_third_party_funding(PPP)', 'student_fees_funding(PPP)',\n       'revenue_unclassified(PPP)', 'total_current_revenues(PPP)',\n       'total_academic_staff(FTE)', 'total_staff_(FTE)',\n       'lowest_degree_delivered', 'highest_degree_delivered',\n       'total_students_enrolled_at_ISCED_5',\n       'total_students_enrolled_at_ISCED_6',\n       'total_students_enrolled_at_ISCED_7',\n       'total_students_enrolled_ISCED_7_longdegree',\n       'total_students_enrolled_ISCED_5-7', 'total_graduates_at_ISCED_5',\n       'total_graduates_at_ISCED_6', 'total_graduates_at_ISCED_7',\n       'total_graduates_at_ISCED_7_longdegree', 'total_graduates_ISCED_5-7',\n       'total_students_enrolled_at_ISCED_8', 'total_graduates_at_ISCED_8',\n       'share_of_women_students_ISCED_5-7', 'share_of_women_academic_staff',\n       'share_of_foreigners_students_ISCED_5-7', 'PhD_intensity',\n       'erasmus_total_incoming_students', 'erasmus_total_outgoing_students'],\n      dtype='object')\n"
     ]
    }
   ],
   "source": [
    "import pandas as pd\n",
    "import numpy as np\n",
    "\n",
    "data = pd.read_csv(\"FINALE.csv\")\n",
    "print(data.columns)"
   ]
  },
  {
   "cell_type": "code",
   "execution_count": 100,
   "metadata": {
    "tags": []
   },
   "outputs": [
    {
     "output_type": "stream",
     "name": "stdout",
     "text": [
      "['FR' 'AL' 'AT' 'BE' 'BG' 'CH' 'CY' 'CZ' 'DE' 'DK' 'EE' 'ES' 'FI' 'GR'\n 'HR' 'HU' 'IE' 'IS' 'IT' 'LI' 'LT' 'LU' 'LV' 'ME' 'MK' 'MT' 'NL' 'NO'\n 'PL' 'PT' 'RO' 'RS' 'SE' 'SI' 'SK' 'TR' 'UK']\n"
     ]
    }
   ],
   "source": [
    "#testa = data[420:440]\n",
    "testa = data.head(10)\n",
    "\n",
    "\n",
    "lista_paesi = data.country_code.unique()\n",
    "print(lista_paesi)\n"
   ]
  },
  {
   "cell_type": "code",
   "execution_count": 101,
   "metadata": {},
   "outputs": [
    {
     "output_type": "stream",
     "name": "stdout",
     "text": [
      "  ETER_ID_year ETER_ID                                   institution_name  \\\n0  FR0001.2017  FR0001                 Université Nice - Sophia-Antipolis   \n1  FR0002.2017  FR0002                Université de technologie de Troyes   \n2  FR0003.2017  FR0003                                     École de l'air   \n3  FR0004.2017  FR0004  École nationale supérieure d'architecture de M...   \n4  FR0005.2017  FR0005  École supérieure d'art et de design Marseille-...   \n5  FR0006.2017  FR0006                        École centrale de Marseille   \n6  FR0007.2017  FR0007                           Aix-Marseille université   \n7  FR0008.2017  FR0008                 Université de Caen Basse-Normandie   \n8  FR0009.2017  FR0009  École supérieure d'arts et médias de Caen - Ch...   \n9  FR0010.2017  FR0010    École nationale supérieure d'ingénieurs de Caen   \n\n              english_institution_name reference_year country_code  \\\n0  University of Nice Sophia Antipolis           2017           FR   \n1   University of Technology of Troyes           2017           FR   \n2                                  nan           2017           FR   \n3                                  nan           2017           FR   \n4                                  nan           2017           FR   \n5                                  nan           2017           FR   \n6             Aix-Marseille University           2017           FR   \n7    University of Caen Lower Normandy           2017           FR   \n8                                  nan           2017           FR   \n9                                  nan           2017           FR   \n\n    name_of_the_city     latitude      longitude personnel_expenditure(PPP)  \\\n0               Nice  43.71688128    7.267293985                          m   \n1             Troyes    48.269146       4.066716                          m   \n2  Salon-de-Provence    43.624831       5.111683                          m   \n3          Marseille    43.229591       5.434393                          m   \n4          Marseille    43.228555        5.43565                          m   \n5          Marseille    43.342462        5.43711                          m   \n6          Marseille  43.29364446    5.358708294                          m   \n7               Caen  49.17526932  -0.3418634975                          m   \n8               Caen    49.180832      -0.346372                          m   \n9               Caen    49.214788      -0.367219                          m   \n\n   ... total_graduates_at_ISCED_7_longdegree total_graduates_ISCED_5-7  \\\n0  ...                                     m                         m   \n1  ...                                     m                         m   \n2  ...                                     m                         m   \n3  ...                                     x                         x   \n4  ...                                     x                         x   \n5  ...                                     m                         m   \n6  ...                                     m                         m   \n7  ...                                     m                         m   \n8  ...                                     x                         x   \n9  ...                                     m                         m   \n\n  total_students_enrolled_at_ISCED_8 total_graduates_at_ISCED_8  \\\n0                                  m                          m   \n1                                  m                          m   \n2                                  a                          a   \n3                                  x                          m   \n4                                  x                          m   \n5                                  m                          m   \n6                                  m                          m   \n7                                  m                          m   \n8                                  x                          m   \n9                                  a                          a   \n\n  share_of_women_students_ISCED_5-7 share_of_women_academic_staff  \\\n0                      0.5586797985                             m   \n1                      0.2253859348                             m   \n2                                 m                             m   \n3                                 m                             m   \n4                                 m                             m   \n5                      0.2769230769                             m   \n6                      0.5750072376                             m   \n7                       0.555258052                             m   \n8                                 m                             m   \n9                      0.2141843972                             m   \n\n  share_of_foreigners_students_ISCED_5-7 PhD_intensity  \\\n0                           0.2048718141             m   \n1                           0.2216123499             m   \n2                                      m             a   \n3                                      m             m   \n4                                      m             m   \n5                           0.2298076923             m   \n6                           0.1274501456             m   \n7                          0.07419480016             m   \n8                                      m             m   \n9                           0.1418439716             a   \n\n  erasmus_total_incoming_students erasmus_total_outgoing_students  \n0                               m                               m  \n1                               m                               m  \n2                               m                               m  \n3                               m                               m  \n4                               m                               m  \n5                               m                               m  \n6                               m                               m  \n7                               m                               m  \n8                               m                               m  \n9                               m                               m  \n\n[10 rows x 41 columns]\n"
     ]
    }
   ],
   "source": [
    "data = data.apply(lambda x:x.astype(str).str.replace(',','.'))\n",
    "\n",
    "print(data.head(10))"
   ]
  },
  {
   "cell_type": "code",
   "execution_count": 102,
   "metadata": {},
   "outputs": [],
   "source": [
    "#funzioni consistency\n",
    "\n",
    "def cons_1(tot_inc):\n",
    "    if(typoBool(tot_inc)):\n",
    "        value = typo(tot_inc)\n",
    "        if(value > 0):\n",
    "            return True\n",
    "        else:\n",
    "            if(tot_inc == \"a\"):\n",
    "                return True \n",
    "            else:\n",
    "                return False\n",
    "    else: return False \n",
    "\n",
    "def cons_2(var1 , var2 , var3, res):\n",
    "    if(typoBool(var1) & typoBool(var2) & typoBool(var3)& typoBool(res)):\n",
    "        value1 = typo(var1)\n",
    "        value2 = typo(var2)\n",
    "        value3 = typo(var3)\n",
    "        result = typo(res)\n",
    "        if( int(value1 + value2 + value3) == int(result)):\n",
    "            return True\n",
    "        else: return False\n",
    "    else: return False \n",
    "\n",
    "def cons_3(var1 , var2 , var3 , var4 , res):\n",
    "    if(typoBool(var1) & typoBool(var2) & typoBool(var3) & typoBool(var4) & typoBool(res)):\n",
    "        value1 = typo(var1)\n",
    "        value2 = typo(var2)\n",
    "        value3 = typo(var3)\n",
    "        value4 = typo(var4)\n",
    "        result = typo(res)\n",
    "        if( int(value1 + value2 + value3 + value4)  == int(result)):\n",
    "            return True\n",
    "        else: return False\n",
    "    else: return False \n",
    "    \n"
   ]
  },
  {
   "cell_type": "code",
   "execution_count": 103,
   "metadata": {},
   "outputs": [],
   "source": [
    "#education-consistency\n",
    "def low_deg(isced , stud7 , stud6 , stud5 ):\n",
    "    if(typoBool(isced)):\n",
    "        isced_num = typo(isced)\n",
    "        if(isced == 3):\n",
    "            if(not stud7 == \"a\" & typoBool(stud7)):\n",
    "                return False\n",
    "        elif(isced == 2):\n",
    "            if(not stud6 == \"a\" & typoBool(stud6)):\n",
    "                return False\n",
    "        elif(isced == 1):\n",
    "            if(not stud5 == \"a\" & typoBool(stud5)):\n",
    "                return False\n",
    "        return True\n",
    "    else:\n",
    "        return False\n",
    "\n",
    "def high_deg(isced , stud8 , stud7 , stud6 ):\n",
    "    if(typoBool(isced)):\n",
    "        isced_num = typo(isced)\n",
    "        if(isced == 0):\n",
    "            if(not stud6 == \"a\" & typoBool(stud6)):\n",
    "                return False\n",
    "        elif(isced == 1):\n",
    "            if(not stud7 == \"a\" & typoBool(stud7)):\n",
    "                return False\n",
    "        elif(isced == 2):\n",
    "            if(not stud8 == \"a\" & typoBool(stud8)):\n",
    "                return False\n",
    "        return True\n",
    "    else:\n",
    "        return False\n",
    "        \n",
    "    "
   ]
  },
  {
   "cell_type": "code",
   "execution_count": 104,
   "metadata": {},
   "outputs": [],
   "source": [
    "def typo(var):\n",
    "    try:\n",
    "        return float(var)\n",
    "    except ValueError:\n",
    "        return var\n",
    "def typoBool(var):\n",
    "    try:\n",
    "        float(var)\n",
    "        return True\n",
    "    except ValueError:\n",
    "        return False\n",
    "\n"
   ]
  },
  {
   "cell_type": "code",
   "execution_count": 105,
   "metadata": {},
   "outputs": [
    {
     "output_type": "stream",
     "name": "stdout",
     "text": [
      "Empty DataFrame\nColumns: [missing_perc, zero_value, c_value, s_value, nc_value, cons_perc]\nIndex: []\n"
     ]
    }
   ],
   "source": [
    "meta_report = pd.DataFrame(columns=[\"missing_perc\" , \"zero_value\" , \"c_value\" , \"s_value\" , \"nc_value\" , \"cons_perc\"])\n",
    "print(meta_report)"
   ]
  },
  {
   "cell_type": "code",
   "execution_count": 106,
   "metadata": {
    "tags": []
   },
   "outputs": [],
   "source": [
    "for index, row in data.iterrows():\n",
    "    missing = 0\n",
    "    zero_value = 0\n",
    "    c_value = 0\n",
    "    s_value = 0\n",
    "    nc_value = 0\n",
    "    consistency = []\n",
    "    for value in row:\n",
    "        if(value == \"m\"):\n",
    "            missing = missing + 1\n",
    "        elif(value == \"0\"):\n",
    "            zero_value = zero_value + 1\n",
    "        elif(value == \"c\"):\n",
    "            c_value = c_value + 1\n",
    "        elif(value == \"s\"):\n",
    "            s_value = s_value + 1\n",
    "        elif(value == \"nc\"):\n",
    "            nc_value = nc_value + 1\n",
    "\n",
    "    consi_1 = cons_1(row['total_current_revenues(PPP)'])\n",
    "    consi_2 = cons_1(row['total_current_expenditure(PPP)'])\n",
    "    consi_3 = cons_3(row['student_fees_funding(PPP)'],\n",
    "     row['total_core_budget(PPP)'] ,\n",
    "     row['revenue_unclassified(PPP)'] , \n",
    "     row['total_third_party_funding(PPP)']\n",
    "     ,row['total_current_revenues(PPP)'])\n",
    "    consi_4 = cons_2(row['non-personnel_expenditure(PPP)'] ,\n",
    "        row['personnel_expenditure(PPP)'] ,\n",
    "        row['expenditure_unclassified(PPP)'] ,\n",
    "        row['total_current_expenditure(PPP)'])\n",
    "    consi_5 = cons_1(row['total_academic_staff(FTE)'])\n",
    "    consi_6 = cons_1(row['total_staff_(FTE)'])\n",
    "    consi_7 = low_deg(row['lowest_degree_delivered'] \n",
    "        , row['total_students_enrolled_at_ISCED_7'] \n",
    "        , row['total_students_enrolled_at_ISCED_6']\n",
    "        , row['total_students_enrolled_at_ISCED_5'])\n",
    "    consi_8 = high_deg(row['highest_degree_delivered'] \n",
    "        , row['total_students_enrolled_at_ISCED_8'] \n",
    "        , row['total_students_enrolled_at_ISCED_7']\n",
    "        , row['total_students_enrolled_at_ISCED_6'])\n",
    "    consi_9 = cons_1(row['erasmus_total_incoming_students'])\n",
    "    consi_10 = cons_1(row['erasmus_total_outgoing_students'])\n",
    "\n",
    "    consistency.append(consi_1)\n",
    "    consistency.append(consi_2)\n",
    "    consistency.append(consi_3)\n",
    "    consistency.append(consi_4)\n",
    "    consistency.append(consi_5)\n",
    "    consistency.append(consi_6)\n",
    "    consistency.append(consi_7)\n",
    "    consistency.append(consi_8)\n",
    "    consistency.append(consi_9)\n",
    "    consistency.append(consi_10)\n",
    "    cons_final = consistency.count(True)/10\n",
    "\n",
    "    to_attach = []\n",
    "    if(missing != 0):\n",
    "        missing = round(missing / 41 ,1)\n",
    "    else :\n",
    "        missing = 1.0\n",
    "    \n",
    "    to_attach.append(missing)\n",
    "    to_attach.append(zero_value)\n",
    "    to_attach.append(c_value)\n",
    "    to_attach.append(s_value)\n",
    "    to_attach.append(nc_value)\n",
    "    to_attach.append(cons_final)\n",
    "    \n",
    "    meta_report = meta_report.append(dict(zip(meta_report.columns, to_attach)), ignore_index=True)\n",
    "\n",
    "    \n",
    "    \n",
    "    \n",
    "\n"
   ]
  },
  {
   "cell_type": "code",
   "execution_count": 107,
   "metadata": {},
   "outputs": [
    {
     "output_type": "stream",
     "name": "stdout",
     "text": [
      "       missing_perc  zero_value  c_value  s_value  nc_value  cons_perc\n0               0.6         1.0      0.0      0.0       0.0        0.2\n1               0.5         0.0      0.0      0.0       0.0        0.2\n2               0.5         0.0      0.0      0.0       0.0        0.2\n3               0.6         0.0      0.0      0.0       0.0        0.0\n4               0.6         0.0      0.0      0.0       0.0        0.0\n...             ...         ...      ...      ...       ...        ...\n17647           1.0         6.0      0.0      0.0       0.0        0.8\n17648           1.0         3.0      0.0      0.0       0.0        1.0\n17649           1.0         2.0      0.0      0.0       0.0        1.0\n17650           1.0         4.0      0.0      0.0       0.0        1.0\n17651           1.0         3.0      0.0      0.0       0.0        0.8\n\n[17652 rows x 6 columns]\n"
     ]
    }
   ],
   "source": [
    "print(meta_report)"
   ]
  },
  {
   "cell_type": "code",
   "execution_count": 108,
   "metadata": {},
   "outputs": [],
   "source": [
    "toconcat = data.filter([\"institution_name\" , \"ETER_ID\" , \"reference_year\", \"country_code\"])\n",
    "final = pd.concat([toconcat , meta_report], axis=1 , ignore_index=False )\n",
    "final.to_csv(\"statistic_per_uni.csv\" , index=False)"
   ]
  }
 ]
}