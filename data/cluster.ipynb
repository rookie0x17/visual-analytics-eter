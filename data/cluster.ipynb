{
 "metadata": {
  "language_info": {
   "codemirror_mode": {
    "name": "ipython",
    "version": 3
   },
   "file_extension": ".py",
   "mimetype": "text/x-python",
   "name": "python",
   "nbconvert_exporter": "python",
   "pygments_lexer": "ipython3",
   "version": "3.8.6"
  },
  "orig_nbformat": 2,
  "kernelspec": {
   "name": "python386jvsc74a57bd031f2aee4e71d21fbe5cf8b01ff0e069b9275f58929596ceb00d14d90e3e16cd6",
   "display_name": "Python 3.8.6 64-bit"
  }
 },
 "nbformat": 4,
 "nbformat_minor": 2,
 "cells": [
  {
   "cell_type": "code",
   "execution_count": 118,
   "metadata": {},
   "outputs": [
    {
     "output_type": "stream",
     "name": "stdout",
     "text": [
      "Index(['ETER_ID_year', 'ETER_ID', 'institution_name',\n       'english_institution_name', 'reference_year', 'country_code',\n       'name_of_the_city', 'latitude', 'longitude',\n       'personnel_expenditure(PPP)', 'non-personnel_expenditure(PPP)',\n       'expenditure_unclassified(PPP)', 'total_current_expenditure(PPP)',\n       'capital_expenditure_(PPP)', 'total_core_budget(PPP)',\n       'total_third_party_funding(PPP)', 'student_fees_funding(PPP)',\n       'revenue_unclassified(PPP)', 'total_current_revenues(PPP)',\n       'total_academic_staff(FTE)', 'total_staff_(FTE)',\n       'lowest_degree_delivered', 'highest_degree_delivered',\n       'total_students_enrolled_at_ISCED_5',\n       'total_students_enrolled_at_ISCED_6',\n       'total_students_enrolled_at_ISCED_7',\n       'total_students_enrolled_ISCED_7_longdegree',\n       'total_students_enrolled_ISCED_5-7', 'total_graduates_at_ISCED_5',\n       'total_graduates_at_ISCED_6', 'total_graduates_at_ISCED_7',\n       'total_graduates_at_ISCED_7_longdegree', 'total_graduates_ISCED_5-7',\n       'total_students_enrolled_at_ISCED_8', 'total_graduates_at_ISCED_8',\n       'share_of_women_students_ISCED_5-7', 'share_of_women_academic_staff',\n       'share_of_foreigners_students_ISCED_5-7', 'PhD_intensity',\n       'erasmus_total_incoming_students', 'erasmus_total_outgoing_students'],\n      dtype='object')\n"
     ]
    }
   ],
   "source": [
    "import pandas as pd\n",
    "\n",
    "data = pd.read_csv(\"FINALE.csv\")\n",
    "print(data.columns)"
   ]
  },
  {
   "cell_type": "code",
   "execution_count": 119,
   "metadata": {},
   "outputs": [
    {
     "output_type": "stream",
     "name": "stdout",
     "text": [
      "  total_academic_staff(FTE) total_staff_(FTE)  \\\n0                         m                 m   \n1                         m                 m   \n\n  total_students_enrolled_ISCED_5-7 total_graduates_ISCED_5-7  \\\n0                             26602                         m   \n1                              2915                         m   \n\n  erasmus_total_incoming_students erasmus_total_outgoing_students  \n0                               m                               m  \n1                               m                               m  \n"
     ]
    }
   ],
   "source": [
    "new_data = data.filter([\n",
    "         \n",
    "       'total_academic_staff(FTE)', 'total_staff_(FTE)',\n",
    "       'total_students_enrolled_ISCED_5-7', 'total_graduates_ISCED_5-7',\n",
    "       'erasmus_total_incoming_students', 'erasmus_total_outgoing_students',\n",
    "        ] , axis=1)\n",
    "print(new_data.head(2))"
   ]
  },
  {
   "cell_type": "code",
   "execution_count": 120,
   "metadata": {},
   "outputs": [
    {
     "output_type": "stream",
     "name": "stdout",
     "text": [
      "  total_academic_staff(FTE) total_staff_(FTE)  \\\n0                         0                 0   \n1                         0                 0   \n\n  total_students_enrolled_ISCED_5-7 total_graduates_ISCED_5-7  \\\n0                             26602                         0   \n1                              2915                         0   \n\n  erasmus_total_incoming_students erasmus_total_outgoing_students  \n0                               0                               0  \n1                               0                               0  \n"
     ]
    }
   ],
   "source": [
    "newdata = new_data.apply(lambda x: x.str.replace(',','.'))\n",
    "newdata = newdata.replace([\"m\" , \"#VALUE!\" , \"xr\" , \"c\" , \"a\" , \"xc\" , \"x\" , \"nc\" , \"s\" , \"NaN\"] , 0)\n",
    "print(newdata.head(2))"
   ]
  },
  {
   "cell_type": "code",
   "execution_count": 121,
   "metadata": {},
   "outputs": [
    {
     "output_type": "stream",
     "name": "stdout",
     "text": [
      "[[ 2.65114188e+04  1.96682016e+03]\n [ 2.90507427e+03  2.15520667e+02]\n [ 1.55566997e-25 -3.86230727e-22]\n ...\n [ 1.03938242e+03 -2.28667626e+02]\n [ 1.36664475e+03 -3.01080456e+02]\n [ 1.02502379e+03 -6.22555321e+02]]\n"
     ]
    }
   ],
   "source": [
    "import numpy as np\n",
    "from sklearn.decomposition import PCA\n",
    "\n",
    "pca = PCA(n_components=2)\n",
    "pca_of_data = pca.fit_transform(newdata)\n",
    "print(pca_of_data)"
   ]
  },
  {
   "cell_type": "code",
   "execution_count": 141,
   "metadata": {},
   "outputs": [
    {
     "output_type": "execute_result",
     "data": {
      "text/plain": [
       "array([-6.87338884e-26, -2.06223048e+04])"
      ]
     },
     "metadata": {},
     "execution_count": 141
    }
   ],
   "source": [
    "pca_of_data.min(0)"
   ]
  },
  {
   "cell_type": "code",
   "execution_count": 143,
   "metadata": {},
   "outputs": [
    {
     "output_type": "execute_result",
     "data": {
      "text/plain": [
       "array([3023196.39372525,   95273.46345256])"
      ]
     },
     "metadata": {},
     "execution_count": 143
    }
   ],
   "source": [
    "pca_of_data.max(0)"
   ]
  },
  {
   "cell_type": "code",
   "execution_count": 122,
   "metadata": {},
   "outputs": [],
   "source": [
    "from sklearn.cluster import MiniBatchKMeans\n",
    "kmeans = MiniBatchKMeans(n_clusters=2, init=\"k-means++\" )\n",
    "y = kmeans.fit_transform(pca_of_data)"
   ]
  },
  {
   "cell_type": "code",
   "execution_count": 123,
   "metadata": {},
   "outputs": [
    {
     "output_type": "execute_result",
     "data": {
      "text/plain": [
       "array([2913, 2913])"
      ]
     },
     "metadata": {},
     "execution_count": 123
    }
   ],
   "source": [
    "y.argmax(0)"
   ]
  },
  {
   "cell_type": "code",
   "execution_count": 124,
   "metadata": {},
   "outputs": [],
   "source": [
    "pca_to_dataframe = pd.DataFrame(y , columns=[\"x\" , \"y\"])\n",
    "labels_todatafra = pd.DataFrame(kmeans.labels_ , columns=[\"label\"])"
   ]
  },
  {
   "cell_type": "code",
   "execution_count": 125,
   "metadata": {},
   "outputs": [
    {
     "output_type": "execute_result",
     "data": {
      "text/plain": [
       "RangeIndex(start=0, stop=17652, step=1)"
      ]
     },
     "metadata": {},
     "execution_count": 125
    }
   ],
   "source": [
    "pca_to_dataframe.index"
   ]
  },
  {
   "cell_type": "code",
   "execution_count": 126,
   "metadata": {},
   "outputs": [],
   "source": [
    "final1 = pd.concat([pca_to_dataframe, labels_todatafra], axis=1 , ignore_index=False )"
   ]
  },
  {
   "cell_type": "code",
   "execution_count": 127,
   "metadata": {},
   "outputs": [
    {
     "output_type": "execute_result",
     "data": {
      "text/plain": [
       "              x             y  label\n",
       "0  17881.298925  22481.740435      0\n",
       "1  40300.634788   1628.665558      1\n",
       "2  43152.131823   4268.583413      1\n",
       "3  43152.131823   4268.583413      1\n",
       "4  43152.131823   4268.583413      1\n",
       "5  42133.821703   3273.993571      1\n",
       "6  18467.558066  54563.963206      0\n",
       "7  18616.325080  21651.298758      0\n",
       "8  43152.131823   4268.583413      1\n",
       "9  42461.723973   3591.602594      1"
      ],
      "text/html": "<div>\n<style scoped>\n    .dataframe tbody tr th:only-of-type {\n        vertical-align: middle;\n    }\n\n    .dataframe tbody tr th {\n        vertical-align: top;\n    }\n\n    .dataframe thead th {\n        text-align: right;\n    }\n</style>\n<table border=\"1\" class=\"dataframe\">\n  <thead>\n    <tr style=\"text-align: right;\">\n      <th></th>\n      <th>x</th>\n      <th>y</th>\n      <th>label</th>\n    </tr>\n  </thead>\n  <tbody>\n    <tr>\n      <th>0</th>\n      <td>17881.298925</td>\n      <td>22481.740435</td>\n      <td>0</td>\n    </tr>\n    <tr>\n      <th>1</th>\n      <td>40300.634788</td>\n      <td>1628.665558</td>\n      <td>1</td>\n    </tr>\n    <tr>\n      <th>2</th>\n      <td>43152.131823</td>\n      <td>4268.583413</td>\n      <td>1</td>\n    </tr>\n    <tr>\n      <th>3</th>\n      <td>43152.131823</td>\n      <td>4268.583413</td>\n      <td>1</td>\n    </tr>\n    <tr>\n      <th>4</th>\n      <td>43152.131823</td>\n      <td>4268.583413</td>\n      <td>1</td>\n    </tr>\n    <tr>\n      <th>5</th>\n      <td>42133.821703</td>\n      <td>3273.993571</td>\n      <td>1</td>\n    </tr>\n    <tr>\n      <th>6</th>\n      <td>18467.558066</td>\n      <td>54563.963206</td>\n      <td>0</td>\n    </tr>\n    <tr>\n      <th>7</th>\n      <td>18616.325080</td>\n      <td>21651.298758</td>\n      <td>0</td>\n    </tr>\n    <tr>\n      <th>8</th>\n      <td>43152.131823</td>\n      <td>4268.583413</td>\n      <td>1</td>\n    </tr>\n    <tr>\n      <th>9</th>\n      <td>42461.723973</td>\n      <td>3591.602594</td>\n      <td>1</td>\n    </tr>\n  </tbody>\n</table>\n</div>"
     },
     "metadata": {},
     "execution_count": 127
    }
   ],
   "source": [
    "final1.head(10)"
   ]
  },
  {
   "cell_type": "code",
   "execution_count": 128,
   "metadata": {},
   "outputs": [],
   "source": [
    "toconcat = data.filter([\"institution_name\" , \"ETER_ID\" , \"reference_year\", \"country_code\"])\n",
    "final = pd.concat([final1, toconcat], axis=1 , ignore_index=False )"
   ]
  },
  {
   "cell_type": "code",
   "execution_count": 129,
   "metadata": {},
   "outputs": [
    {
     "output_type": "execute_result",
     "data": {
      "text/plain": [
       "              x             y  label                    institution_name  \\\n",
       "0  17881.298925  22481.740435      0  Université Nice - Sophia-Antipolis   \n",
       "\n",
       "  ETER_ID  reference_year country_code  \n",
       "0  FR0001            2017           FR  "
      ],
      "text/html": "<div>\n<style scoped>\n    .dataframe tbody tr th:only-of-type {\n        vertical-align: middle;\n    }\n\n    .dataframe tbody tr th {\n        vertical-align: top;\n    }\n\n    .dataframe thead th {\n        text-align: right;\n    }\n</style>\n<table border=\"1\" class=\"dataframe\">\n  <thead>\n    <tr style=\"text-align: right;\">\n      <th></th>\n      <th>x</th>\n      <th>y</th>\n      <th>label</th>\n      <th>institution_name</th>\n      <th>ETER_ID</th>\n      <th>reference_year</th>\n      <th>country_code</th>\n    </tr>\n  </thead>\n  <tbody>\n    <tr>\n      <th>0</th>\n      <td>17881.298925</td>\n      <td>22481.740435</td>\n      <td>0</td>\n      <td>Université Nice - Sophia-Antipolis</td>\n      <td>FR0001</td>\n      <td>2017</td>\n      <td>FR</td>\n    </tr>\n  </tbody>\n</table>\n</div>"
     },
     "metadata": {},
     "execution_count": 129
    }
   ],
   "source": [
    "final.head(1)"
   ]
  },
  {
   "cell_type": "code",
   "execution_count": 130,
   "metadata": {},
   "outputs": [],
   "source": [
    "data1 = pd.read_csv(\"statistic_per_uni.csv\")\n",
    "data1 = data1.filter([\"missing_perc\",\"cons_perc\"])"
   ]
  },
  {
   "cell_type": "code",
   "execution_count": 131,
   "metadata": {},
   "outputs": [],
   "source": [
    "final3 = pd.concat([final , data1], axis=1 , ignore_index=False )\n",
    "final3.to_csv(\"fusion_kmeans.csv\" , index=False)"
   ]
  },
  {
   "cell_type": "code",
   "execution_count": 132,
   "metadata": {},
   "outputs": [
    {
     "output_type": "execute_result",
     "data": {
      "text/plain": [
       "              x             y  label                    institution_name  \\\n",
       "0  17881.298925  22481.740435      0  Université Nice - Sophia-Antipolis   \n",
       "\n",
       "  ETER_ID  reference_year country_code  missing_perc  cons_perc  \n",
       "0  FR0001            2017           FR           0.6        0.2  "
      ],
      "text/html": "<div>\n<style scoped>\n    .dataframe tbody tr th:only-of-type {\n        vertical-align: middle;\n    }\n\n    .dataframe tbody tr th {\n        vertical-align: top;\n    }\n\n    .dataframe thead th {\n        text-align: right;\n    }\n</style>\n<table border=\"1\" class=\"dataframe\">\n  <thead>\n    <tr style=\"text-align: right;\">\n      <th></th>\n      <th>x</th>\n      <th>y</th>\n      <th>label</th>\n      <th>institution_name</th>\n      <th>ETER_ID</th>\n      <th>reference_year</th>\n      <th>country_code</th>\n      <th>missing_perc</th>\n      <th>cons_perc</th>\n    </tr>\n  </thead>\n  <tbody>\n    <tr>\n      <th>0</th>\n      <td>17881.298925</td>\n      <td>22481.740435</td>\n      <td>0</td>\n      <td>Université Nice - Sophia-Antipolis</td>\n      <td>FR0001</td>\n      <td>2017</td>\n      <td>FR</td>\n      <td>0.6</td>\n      <td>0.2</td>\n    </tr>\n  </tbody>\n</table>\n</div>"
     },
     "metadata": {},
     "execution_count": 132
    }
   ],
   "source": [
    "final3.head(1)"
   ]
  },
  {
   "cell_type": "code",
   "execution_count": 133,
   "metadata": {},
   "outputs": [
    {
     "output_type": "execute_result",
     "data": {
      "text/plain": [
       "array([2982079.25892687, 3020526.34284152])"
      ]
     },
     "metadata": {},
     "execution_count": 133
    }
   ],
   "source": [
    "y.max(0)\n"
   ]
  },
  {
   "cell_type": "code",
   "execution_count": 134,
   "metadata": {},
   "outputs": [
    {
     "output_type": "execute_result",
     "data": {
      "text/plain": [
       "array([700.78674546,  38.37492564])"
      ]
     },
     "metadata": {},
     "execution_count": 134
    }
   ],
   "source": [
    "y.min(0)"
   ]
  },
  {
   "cell_type": "code",
   "execution_count": 135,
   "metadata": {},
   "outputs": [],
   "source": [
    "pca_to_dataframe2 = pd.DataFrame(pca_of_data , columns=[\"x\" , \"y\"])"
   ]
  },
  {
   "cell_type": "code",
   "execution_count": 136,
   "metadata": {},
   "outputs": [],
   "source": [
    "pca_final = pd.concat([pca_to_dataframe2, toconcat], axis=1 , ignore_index=False )\n",
    "pca_final2 = pd.concat([pca_final, data1], axis=1 , ignore_index=False )"
   ]
  },
  {
   "cell_type": "code",
   "execution_count": 138,
   "metadata": {},
   "outputs": [],
   "source": [
    "pca_final2.to_csv(\"pca.csv\" , index=False)"
   ]
  },
  {
   "cell_type": "code",
   "execution_count": null,
   "metadata": {},
   "outputs": [],
   "source": []
  }
 ]
}