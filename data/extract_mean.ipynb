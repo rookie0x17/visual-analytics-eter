{
 "metadata": {
  "language_info": {
   "codemirror_mode": {
    "name": "ipython",
    "version": 3
   },
   "file_extension": ".py",
   "mimetype": "text/x-python",
   "name": "python",
   "nbconvert_exporter": "python",
   "pygments_lexer": "ipython3",
   "version": "3.8.6"
  },
  "orig_nbformat": 2,
  "kernelspec": {
   "name": "python386jvsc74a57bd031f2aee4e71d21fbe5cf8b01ff0e069b9275f58929596ceb00d14d90e3e16cd6",
   "display_name": "Python 3.8.6 64-bit"
  }
 },
 "nbformat": 4,
 "nbformat_minor": 2,
 "cells": [
  {
   "cell_type": "code",
   "execution_count": 78,
   "metadata": {},
   "outputs": [
    {
     "output_type": "stream",
     "name": "stdout",
     "text": [
      "Index(['ETER_ID_year', 'ETER_ID', 'institution_name',\n       'english_institution_name', 'reference_year', 'country_code',\n       'name_of_the_city', 'latitude', 'longitude',\n       'personnel_expenditure(PPP)', 'non-personnel_expenditure(PPP)',\n       'expenditure_unclassified(PPP)', 'total_current_expenditure(PPP)',\n       'capital_expenditure_(PPP)', 'total_core_budget(PPP)',\n       'total_third_party_funding(PPP)', 'student_fees_funding(PPP)',\n       'revenue_unclassified(PPP)', 'total_current_revenues(PPP)',\n       'total_academic_staff(FTE)', 'total_staff_(FTE)',\n       'lowest_degree_delivered', 'highest_degree_delivered',\n       'total_students_enrolled_at_ISCED_5',\n       'total_students_enrolled_at_ISCED_6',\n       'total_students_enrolled_at_ISCED_7',\n       'total_students_enrolled_ISCED_7_longdegree',\n       'total_students_enrolled_ISCED_5-7', 'total_graduates_at_ISCED_5',\n       'total_graduates_at_ISCED_6', 'total_graduates_at_ISCED_7',\n       'total_graduates_at_ISCED_7_longdegree', 'total_graduates_ISCED_5-7',\n       'total_students_enrolled_at_ISCED_8', 'total_graduates_at_ISCED_8',\n       'share_of_women_students_ISCED_5-7', 'share_of_women_academic_staff',\n       'share_of_foreigners_students_ISCED_5-7', 'PhD_intensity',\n       'erasmus_total_incoming_students', 'erasmus_total_outgoing_students'],\n      dtype='object')\n"
     ]
    }
   ],
   "source": [
    "import pandas as pd\n",
    "\n",
    "data = pd.read_csv(\"FINALE.csv\")\n",
    "print(data.columns)"
   ]
  },
  {
   "cell_type": "code",
   "execution_count": 79,
   "metadata": {},
   "outputs": [],
   "source": [
    "new_data = data.filter([  \n",
    "        'total_current_expenditure_(PPP)', 'total_current_revenues(PPP)',\n",
    "       'total_academic_staff(FTE)', 'total_staff_(FTE)',\n",
    "       'total_students_enrolled_ISCED_5-7', 'total_graduates_ISCED_5-7',\n",
    "       'total_students_enrolled_at_ISCED_8', 'total_graduates_at_ISCED_8',\n",
    "       'erasmus_total_incoming_students', 'erasmus_total_outgoing_students',\n",
    "       'total_core_budget(PPP)' , 'student_fees_funding(PPP)' , 'total_third_party_funding(PPP)' ,\n",
    "       'share_of_woman_academic_staff' , 'share_of_women_students_ISCED_5-7' , 'PhDintensity' ,\n",
    "       'share_of_foreign_students_ISCED_5-7' ] , axis=1)"
   ]
  },
  {
   "cell_type": "code",
   "execution_count": 80,
   "metadata": {},
   "outputs": [],
   "source": [
    "ref_year_data = data.filter(['reference_year' , 'country_code' ])"
   ]
  },
  {
   "cell_type": "code",
   "execution_count": 81,
   "metadata": {},
   "outputs": [],
   "source": [
    "newdata = new_data.apply(lambda x: x.str.replace(',','.'))\n",
    "newdata = newdata.replace([\"m\" , \"#VALUE!\" , \"xr\" , \"c\" , \"a\" , \"xc\" , \"x\" , \"nc\" , \"s\" , \"NaN\"] , 0)\n",
    "newdata = newdata.astype(float)"
   ]
  },
  {
   "cell_type": "code",
   "execution_count": 82,
   "metadata": {},
   "outputs": [
    {
     "output_type": "stream",
     "name": "stdout",
     "text": [
      "   reference_year country_code  total_current_revenues(PPP)  \\\n0            2017           FR                          0.0   \n1            2017           FR                          0.0   \n\n   total_academic_staff(FTE)  total_staff_(FTE)  \\\n0                        0.0                0.0   \n1                        0.0                0.0   \n\n   total_students_enrolled_ISCED_5-7  total_graduates_ISCED_5-7  \\\n0                            26602.0                        0.0   \n1                             2915.0                        0.0   \n\n   total_students_enrolled_at_ISCED_8  total_graduates_at_ISCED_8  \\\n0                                 0.0                         0.0   \n1                                 0.0                         0.0   \n\n   erasmus_total_incoming_students  erasmus_total_outgoing_students  \\\n0                              0.0                              0.0   \n1                              0.0                              0.0   \n\n   total_core_budget(PPP)  student_fees_funding(PPP)  \\\n0                     0.0                        0.0   \n1                     0.0                        0.0   \n\n   total_third_party_funding(PPP)  share_of_women_students_ISCED_5-7  \n0                             0.0                           0.558680  \n1                             0.0                           0.225386  \n"
     ]
    }
   ],
   "source": [
    "newdata = pd.concat([ ref_year_data , newdata], axis=1 , ignore_index=False )\n",
    "\n",
    "print(newdata.head(2))"
   ]
  },
  {
   "cell_type": "code",
   "execution_count": 83,
   "metadata": {},
   "outputs": [],
   "source": [
    "final2 = newdata.groupby([\"country_code\" , \"reference_year\"]).mean()"
   ]
  },
  {
   "cell_type": "code",
   "execution_count": 84,
   "metadata": {},
   "outputs": [
    {
     "output_type": "stream",
     "name": "stdout",
     "text": [
      "                             total_current_revenues(PPP)  \\\ncountry_code reference_year                                \nAL           2011                                    0.0   \n             2012                                    0.0   \n\n                             total_academic_staff(FTE)  total_staff_(FTE)  \\\ncountry_code reference_year                                                 \nAL           2011                                  0.0                0.0   \n             2012                                  0.0                0.0   \n\n                             total_students_enrolled_ISCED_5-7  \\\ncountry_code reference_year                                      \nAL           2011                                  3828.594595   \n             2012                                  4022.918919   \n\n                             total_graduates_ISCED_5-7  \\\ncountry_code reference_year                              \nAL           2011                                  0.0   \n             2012                                  0.0   \n\n                             total_students_enrolled_at_ISCED_8  \\\ncountry_code reference_year                                       \nAL           2011                                           0.0   \n             2012                                           0.0   \n\n                             total_graduates_at_ISCED_8  \\\ncountry_code reference_year                               \nAL           2011                                   0.0   \n             2012                                   0.0   \n\n                             erasmus_total_incoming_students  \\\ncountry_code reference_year                                    \nAL           2011                                        0.0   \n             2012                                        0.0   \n\n                             erasmus_total_outgoing_students  \\\ncountry_code reference_year                                    \nAL           2011                                        0.0   \n             2012                                        0.0   \n\n                             total_core_budget(PPP)  \\\ncountry_code reference_year                           \nAL           2011                               0.0   \n             2012                               0.0   \n\n                             student_fees_funding(PPP)  \\\ncountry_code reference_year                              \nAL           2011                                  0.0   \n             2012                                  0.0   \n\n                             total_third_party_funding(PPP)  \\\ncountry_code reference_year                                   \nAL           2011                                       0.0   \n             2012                                       0.0   \n\n                             share_of_women_students_ISCED_5-7  \ncountry_code reference_year                                     \nAL           2011                                     0.408431  \n             2012                                     0.415864  \n"
     ]
    }
   ],
   "source": [
    "print(final2.head(2))"
   ]
  },
  {
   "cell_type": "code",
   "execution_count": 85,
   "metadata": {},
   "outputs": [],
   "source": [
    "final2.to_csv(\"stastic_per_country_puredb.csv\" , index=True)"
   ]
  },
  {
   "cell_type": "code",
   "execution_count": null,
   "metadata": {},
   "outputs": [],
   "source": []
  }
 ]
}