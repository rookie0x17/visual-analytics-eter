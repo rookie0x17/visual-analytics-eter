{
 "metadata": {
  "language_info": {
   "codemirror_mode": {
    "name": "ipython",
    "version": 3
   },
   "file_extension": ".py",
   "mimetype": "text/x-python",
   "name": "python",
   "nbconvert_exporter": "python",
   "pygments_lexer": "ipython3",
   "version": "3.8.6"
  },
  "orig_nbformat": 2,
  "kernelspec": {
   "name": "python386jvsc74a57bd031f2aee4e71d21fbe5cf8b01ff0e069b9275f58929596ceb00d14d90e3e16cd6",
   "display_name": "Python 3.8.6 64-bit"
  }
 },
 "nbformat": 4,
 "nbformat_minor": 2,
 "cells": [
  {
   "cell_type": "code",
   "execution_count": 31,
   "metadata": {},
   "outputs": [
    {
     "output_type": "stream",
     "name": "stdout",
     "text": [
      "Index(['ETER_ID_year', 'ETER_ID', 'institution_name',\n       'english_institution_name', 'reference_year', 'country_code',\n       'name_of_the_city', 'latitude', 'longitude',\n       'personnel_expenditure(PPP)', 'non-personnel_expenditure(PPP)',\n       'expenditure_unclassified(PPP)', 'total_current_expenditure(PPP)',\n       'capital_expenditure_(PPP)', 'total_core_budget(PPP)',\n       'total_third_party_funding(PPP)', 'student_fees_funding(PPP)',\n       'revenue_unclassified(PPP)', 'total_current_revenues(PPP)',\n       'total_academic_staff(FTE)', 'total_staff_(FTE)',\n       'lowest_degree_delivered', 'highest_degree_delivered',\n       'total_students_enrolled_at_ISCED_5',\n       'total_students_enrolled_at_ISCED_6',\n       'total_students_enrolled_at_ISCED_7',\n       'total_students_enrolled_ISCED_7_longdegree',\n       'total_students_enrolled_ISCED_5-7', 'total_graduates_at_ISCED_5',\n       'total_graduates_at_ISCED_6', 'total_graduates_at_ISCED_7',\n       'total_graduates_at_ISCED_7_longdegree', 'total_graduates_ISCED_5-7',\n       'total_students_enrolled_at_ISCED_8', 'total_graduates_at_ISCED_8',\n       'share_of_women_students_ISCED_5-7', 'share_of_women_academic_staff',\n       'share_of_foreigners_students_ISCED_5-7', 'PhD_intensity',\n       'erasmus_total_incoming_students', 'erasmus_total_outgoing_students'],\n      dtype='object')\n"
     ]
    }
   ],
   "source": [
    "import pandas as pd\n",
    "\n",
    "data = pd.read_csv(\"FINALE.csv\")\n",
    "print(data.columns)"
   ]
  },
  {
   "cell_type": "code",
   "execution_count": 32,
   "metadata": {},
   "outputs": [
    {
     "output_type": "execute_result",
     "data": {
      "text/plain": [
       "  total_current_expenditure(PPP) total_current_revenues(PPP)  \\\n",
       "0                              m                           m   \n",
       "1                              m                           m   \n",
       "2                              m                           m   \n",
       "3                              m                           m   \n",
       "4                              m                           m   \n",
       "5                              m                           m   \n",
       "6                              m                           m   \n",
       "7                              m                           m   \n",
       "8                              m                           m   \n",
       "9                              m                           m   \n",
       "\n",
       "  total_academic_staff(FTE) total_staff_(FTE)  \\\n",
       "0                         m                 m   \n",
       "1                         m                 m   \n",
       "2                         m                 m   \n",
       "3                         m                 m   \n",
       "4                         m                 m   \n",
       "5                         m                 m   \n",
       "6                         m                 m   \n",
       "7                         m                 m   \n",
       "8                         m                 m   \n",
       "9                         m                 m   \n",
       "\n",
       "  total_students_enrolled_ISCED_5-7 total_graduates_ISCED_5-7  \\\n",
       "0                             26602                         m   \n",
       "1                              2915                         m   \n",
       "2                                 m                         m   \n",
       "3                                 m                         x   \n",
       "4                                 m                         x   \n",
       "5                              1040                         m   \n",
       "6                             58721                         m   \n",
       "7                             25770                         m   \n",
       "8                                 m                         x   \n",
       "9                               705                         m   \n",
       "\n",
       "  total_students_enrolled_at_ISCED_8 total_graduates_at_ISCED_8  \\\n",
       "0                                  m                          m   \n",
       "1                                  m                          m   \n",
       "2                                  a                          a   \n",
       "3                                  x                          m   \n",
       "4                                  x                          m   \n",
       "5                                  m                          m   \n",
       "6                                  m                          m   \n",
       "7                                  m                          m   \n",
       "8                                  x                          m   \n",
       "9                                  a                          a   \n",
       "\n",
       "  erasmus_total_incoming_students erasmus_total_outgoing_students  \\\n",
       "0                               m                               m   \n",
       "1                               m                               m   \n",
       "2                               m                               m   \n",
       "3                               m                               m   \n",
       "4                               m                               m   \n",
       "5                               m                               m   \n",
       "6                               m                               m   \n",
       "7                               m                               m   \n",
       "8                               m                               m   \n",
       "9                               m                               m   \n",
       "\n",
       "  total_core_budget(PPP) student_fees_funding(PPP)  \\\n",
       "0                      m                         m   \n",
       "1                      m                         m   \n",
       "2                      m                         m   \n",
       "3                      m                         m   \n",
       "4                      m                         m   \n",
       "5                      m                         m   \n",
       "6                      m                         m   \n",
       "7                      m                         m   \n",
       "8                      m                         m   \n",
       "9                      m                         m   \n",
       "\n",
       "  total_third_party_funding(PPP) share_of_women_academic_staff  \\\n",
       "0                              m                             m   \n",
       "1                              m                             m   \n",
       "2                              m                             m   \n",
       "3                              m                             m   \n",
       "4                              m                             m   \n",
       "5                              m                             m   \n",
       "6                              m                             m   \n",
       "7                              m                             m   \n",
       "8                              m                             m   \n",
       "9                              m                             m   \n",
       "\n",
       "  share_of_women_students_ISCED_5-7 PhD_intensity  \\\n",
       "0                      0,5586797985             m   \n",
       "1                      0,2253859348             m   \n",
       "2                                 m             a   \n",
       "3                                 m             m   \n",
       "4                                 m             m   \n",
       "5                      0,2769230769             m   \n",
       "6                      0,5750072376             m   \n",
       "7                       0,555258052             m   \n",
       "8                                 m             m   \n",
       "9                      0,2141843972             a   \n",
       "\n",
       "  share_of_foreigners_students_ISCED_5-7  \n",
       "0                           0,2048718141  \n",
       "1                           0,2216123499  \n",
       "2                                      m  \n",
       "3                                      m  \n",
       "4                                      m  \n",
       "5                           0,2298076923  \n",
       "6                           0,1274501456  \n",
       "7                          0,07419480016  \n",
       "8                                      m  \n",
       "9                           0,1418439716  "
      ],
      "text/html": "<div>\n<style scoped>\n    .dataframe tbody tr th:only-of-type {\n        vertical-align: middle;\n    }\n\n    .dataframe tbody tr th {\n        vertical-align: top;\n    }\n\n    .dataframe thead th {\n        text-align: right;\n    }\n</style>\n<table border=\"1\" class=\"dataframe\">\n  <thead>\n    <tr style=\"text-align: right;\">\n      <th></th>\n      <th>total_current_expenditure(PPP)</th>\n      <th>total_current_revenues(PPP)</th>\n      <th>total_academic_staff(FTE)</th>\n      <th>total_staff_(FTE)</th>\n      <th>total_students_enrolled_ISCED_5-7</th>\n      <th>total_graduates_ISCED_5-7</th>\n      <th>total_students_enrolled_at_ISCED_8</th>\n      <th>total_graduates_at_ISCED_8</th>\n      <th>erasmus_total_incoming_students</th>\n      <th>erasmus_total_outgoing_students</th>\n      <th>total_core_budget(PPP)</th>\n      <th>student_fees_funding(PPP)</th>\n      <th>total_third_party_funding(PPP)</th>\n      <th>share_of_women_academic_staff</th>\n      <th>share_of_women_students_ISCED_5-7</th>\n      <th>PhD_intensity</th>\n      <th>share_of_foreigners_students_ISCED_5-7</th>\n    </tr>\n  </thead>\n  <tbody>\n    <tr>\n      <th>0</th>\n      <td>m</td>\n      <td>m</td>\n      <td>m</td>\n      <td>m</td>\n      <td>26602</td>\n      <td>m</td>\n      <td>m</td>\n      <td>m</td>\n      <td>m</td>\n      <td>m</td>\n      <td>m</td>\n      <td>m</td>\n      <td>m</td>\n      <td>m</td>\n      <td>0,5586797985</td>\n      <td>m</td>\n      <td>0,2048718141</td>\n    </tr>\n    <tr>\n      <th>1</th>\n      <td>m</td>\n      <td>m</td>\n      <td>m</td>\n      <td>m</td>\n      <td>2915</td>\n      <td>m</td>\n      <td>m</td>\n      <td>m</td>\n      <td>m</td>\n      <td>m</td>\n      <td>m</td>\n      <td>m</td>\n      <td>m</td>\n      <td>m</td>\n      <td>0,2253859348</td>\n      <td>m</td>\n      <td>0,2216123499</td>\n    </tr>\n    <tr>\n      <th>2</th>\n      <td>m</td>\n      <td>m</td>\n      <td>m</td>\n      <td>m</td>\n      <td>m</td>\n      <td>m</td>\n      <td>a</td>\n      <td>a</td>\n      <td>m</td>\n      <td>m</td>\n      <td>m</td>\n      <td>m</td>\n      <td>m</td>\n      <td>m</td>\n      <td>m</td>\n      <td>a</td>\n      <td>m</td>\n    </tr>\n    <tr>\n      <th>3</th>\n      <td>m</td>\n      <td>m</td>\n      <td>m</td>\n      <td>m</td>\n      <td>m</td>\n      <td>x</td>\n      <td>x</td>\n      <td>m</td>\n      <td>m</td>\n      <td>m</td>\n      <td>m</td>\n      <td>m</td>\n      <td>m</td>\n      <td>m</td>\n      <td>m</td>\n      <td>m</td>\n      <td>m</td>\n    </tr>\n    <tr>\n      <th>4</th>\n      <td>m</td>\n      <td>m</td>\n      <td>m</td>\n      <td>m</td>\n      <td>m</td>\n      <td>x</td>\n      <td>x</td>\n      <td>m</td>\n      <td>m</td>\n      <td>m</td>\n      <td>m</td>\n      <td>m</td>\n      <td>m</td>\n      <td>m</td>\n      <td>m</td>\n      <td>m</td>\n      <td>m</td>\n    </tr>\n    <tr>\n      <th>5</th>\n      <td>m</td>\n      <td>m</td>\n      <td>m</td>\n      <td>m</td>\n      <td>1040</td>\n      <td>m</td>\n      <td>m</td>\n      <td>m</td>\n      <td>m</td>\n      <td>m</td>\n      <td>m</td>\n      <td>m</td>\n      <td>m</td>\n      <td>m</td>\n      <td>0,2769230769</td>\n      <td>m</td>\n      <td>0,2298076923</td>\n    </tr>\n    <tr>\n      <th>6</th>\n      <td>m</td>\n      <td>m</td>\n      <td>m</td>\n      <td>m</td>\n      <td>58721</td>\n      <td>m</td>\n      <td>m</td>\n      <td>m</td>\n      <td>m</td>\n      <td>m</td>\n      <td>m</td>\n      <td>m</td>\n      <td>m</td>\n      <td>m</td>\n      <td>0,5750072376</td>\n      <td>m</td>\n      <td>0,1274501456</td>\n    </tr>\n    <tr>\n      <th>7</th>\n      <td>m</td>\n      <td>m</td>\n      <td>m</td>\n      <td>m</td>\n      <td>25770</td>\n      <td>m</td>\n      <td>m</td>\n      <td>m</td>\n      <td>m</td>\n      <td>m</td>\n      <td>m</td>\n      <td>m</td>\n      <td>m</td>\n      <td>m</td>\n      <td>0,555258052</td>\n      <td>m</td>\n      <td>0,07419480016</td>\n    </tr>\n    <tr>\n      <th>8</th>\n      <td>m</td>\n      <td>m</td>\n      <td>m</td>\n      <td>m</td>\n      <td>m</td>\n      <td>x</td>\n      <td>x</td>\n      <td>m</td>\n      <td>m</td>\n      <td>m</td>\n      <td>m</td>\n      <td>m</td>\n      <td>m</td>\n      <td>m</td>\n      <td>m</td>\n      <td>m</td>\n      <td>m</td>\n    </tr>\n    <tr>\n      <th>9</th>\n      <td>m</td>\n      <td>m</td>\n      <td>m</td>\n      <td>m</td>\n      <td>705</td>\n      <td>m</td>\n      <td>a</td>\n      <td>a</td>\n      <td>m</td>\n      <td>m</td>\n      <td>m</td>\n      <td>m</td>\n      <td>m</td>\n      <td>m</td>\n      <td>0,2141843972</td>\n      <td>a</td>\n      <td>0,1418439716</td>\n    </tr>\n  </tbody>\n</table>\n</div>"
     },
     "metadata": {},
     "execution_count": 32
    }
   ],
   "source": [
    "new_data = data.filter([  \n",
    "        'total_current_expenditure(PPP)', 'total_current_revenues(PPP)',\n",
    "       'total_academic_staff(FTE)', 'total_staff_(FTE)',\n",
    "       'total_students_enrolled_ISCED_5-7', 'total_graduates_ISCED_5-7',\n",
    "       'total_students_enrolled_at_ISCED_8', 'total_graduates_at_ISCED_8',\n",
    "       'erasmus_total_incoming_students', 'erasmus_total_outgoing_students',\n",
    "       'total_core_budget(PPP)' , 'student_fees_funding(PPP)' , 'total_third_party_funding(PPP)' ,\n",
    "       'share_of_women_academic_staff' , 'share_of_women_students_ISCED_5-7' , 'PhD_intensity' ,\n",
    "       'share_of_foreigners_students_ISCED_5-7'\n",
    "        ] , axis=1)\n",
    "new_data.head(10)"
   ]
  },
  {
   "cell_type": "code",
   "execution_count": 33,
   "metadata": {},
   "outputs": [],
   "source": [
    "ref_year_data = data.filter(['reference_year' , 'country_code' ])"
   ]
  },
  {
   "cell_type": "code",
   "execution_count": 34,
   "metadata": {},
   "outputs": [],
   "source": [
    "newdata = new_data.apply(lambda x: x.str.replace(',','.'))\n",
    "newdata = newdata.replace([\"m\" , \"#VALUE!\" , \"xr\" , \"c\" , \"a\" , \"xc\" , \"x\" , \"nc\" , \"s\" , \"NaN\"] , 0)\n",
    "newdata = newdata.astype(float)"
   ]
  },
  {
   "cell_type": "code",
   "execution_count": 35,
   "metadata": {},
   "outputs": [
    {
     "output_type": "stream",
     "name": "stdout",
     "text": [
      "   reference_year country_code  total_current_expenditure(PPP)  \\\n0            2017           FR                             0.0   \n1            2017           FR                             0.0   \n\n   total_current_revenues(PPP)  total_academic_staff(FTE)  total_staff_(FTE)  \\\n0                          0.0                        0.0                0.0   \n1                          0.0                        0.0                0.0   \n\n   total_students_enrolled_ISCED_5-7  total_graduates_ISCED_5-7  \\\n0                            26602.0                        0.0   \n1                             2915.0                        0.0   \n\n   total_students_enrolled_at_ISCED_8  total_graduates_at_ISCED_8  \\\n0                                 0.0                         0.0   \n1                                 0.0                         0.0   \n\n   erasmus_total_incoming_students  erasmus_total_outgoing_students  \\\n0                              0.0                              0.0   \n1                              0.0                              0.0   \n\n   total_core_budget(PPP)  student_fees_funding(PPP)  \\\n0                     0.0                        0.0   \n1                     0.0                        0.0   \n\n   total_third_party_funding(PPP)  share_of_women_academic_staff  \\\n0                             0.0                            0.0   \n1                             0.0                            0.0   \n\n   share_of_women_students_ISCED_5-7  PhD_intensity  \\\n0                           0.558680            0.0   \n1                           0.225386            0.0   \n\n   share_of_foreigners_students_ISCED_5-7  \n0                                0.204872  \n1                                0.221612  \n"
     ]
    }
   ],
   "source": [
    "newdata = pd.concat([ ref_year_data , newdata], axis=1 , ignore_index=False )\n",
    "\n",
    "print(newdata.head(2))"
   ]
  },
  {
   "cell_type": "code",
   "execution_count": 36,
   "metadata": {},
   "outputs": [],
   "source": [
    "final2 = newdata.groupby([\"country_code\" , \"reference_year\"]).mean()"
   ]
  },
  {
   "cell_type": "code",
   "execution_count": 37,
   "metadata": {},
   "outputs": [
    {
     "output_type": "stream",
     "name": "stdout",
     "text": [
      "                             total_current_expenditure(PPP)  \\\ncountry_code reference_year                                   \nAL           2011                                       0.0   \n             2012                                       0.0   \n\n                             total_current_revenues(PPP)  \\\ncountry_code reference_year                                \nAL           2011                                    0.0   \n             2012                                    0.0   \n\n                             total_academic_staff(FTE)  total_staff_(FTE)  \\\ncountry_code reference_year                                                 \nAL           2011                                  0.0                0.0   \n             2012                                  0.0                0.0   \n\n                             total_students_enrolled_ISCED_5-7  \\\ncountry_code reference_year                                      \nAL           2011                                  3828.594595   \n             2012                                  4022.918919   \n\n                             total_graduates_ISCED_5-7  \\\ncountry_code reference_year                              \nAL           2011                                  0.0   \n             2012                                  0.0   \n\n                             total_students_enrolled_at_ISCED_8  \\\ncountry_code reference_year                                       \nAL           2011                                           0.0   \n             2012                                           0.0   \n\n                             total_graduates_at_ISCED_8  \\\ncountry_code reference_year                               \nAL           2011                                   0.0   \n             2012                                   0.0   \n\n                             erasmus_total_incoming_students  \\\ncountry_code reference_year                                    \nAL           2011                                        0.0   \n             2012                                        0.0   \n\n                             erasmus_total_outgoing_students  \\\ncountry_code reference_year                                    \nAL           2011                                        0.0   \n             2012                                        0.0   \n\n                             total_core_budget(PPP)  \\\ncountry_code reference_year                           \nAL           2011                               0.0   \n             2012                               0.0   \n\n                             student_fees_funding(PPP)  \\\ncountry_code reference_year                              \nAL           2011                                  0.0   \n             2012                                  0.0   \n\n                             total_third_party_funding(PPP)  \\\ncountry_code reference_year                                   \nAL           2011                                       0.0   \n             2012                                       0.0   \n\n                             share_of_women_academic_staff  \\\ncountry_code reference_year                                  \nAL           2011                                      0.0   \n             2012                                      0.0   \n\n                             share_of_women_students_ISCED_5-7  PhD_intensity  \\\ncountry_code reference_year                                                     \nAL           2011                                     0.408431            0.0   \n             2012                                     0.415864            0.0   \n\n                             share_of_foreigners_students_ISCED_5-7  \ncountry_code reference_year                                          \nAL           2011                                               0.0  \n             2012                                               0.0  \n"
     ]
    }
   ],
   "source": [
    "print(final2.head(2))"
   ]
  },
  {
   "cell_type": "code",
   "execution_count": 38,
   "metadata": {},
   "outputs": [],
   "source": [
    "final2.to_csv(\"stastic_per_country_puredb.csv\" , index=True)"
   ]
  },
  {
   "cell_type": "code",
   "execution_count": 39,
   "metadata": {},
   "outputs": [],
   "source": [
    "final2 = final2.groupby([\"reference_year\"]).mean()"
   ]
  },
  {
   "cell_type": "code",
   "execution_count": 40,
   "metadata": {},
   "outputs": [],
   "source": [
    "final2.to_csv(\"stastic_per_entiredb_alessandro.csv\" , index=True)"
   ]
  },
  {
   "cell_type": "code",
   "execution_count": null,
   "metadata": {},
   "outputs": [],
   "source": []
  }
 ]
}