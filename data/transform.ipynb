{
 "metadata": {
  "language_info": {
   "codemirror_mode": {
    "name": "ipython",
    "version": 3
   },
   "file_extension": ".py",
   "mimetype": "text/x-python",
   "name": "python",
   "nbconvert_exporter": "python",
   "pygments_lexer": "ipython3",
   "version": "3.8.6-final"
  },
  "orig_nbformat": 2,
  "kernelspec": {
   "name": "python3",
   "display_name": "Python 3",
   "language": "python"
  }
 },
 "nbformat": 4,
 "nbformat_minor": 2,
 "cells": [
  {
   "cell_type": "code",
   "execution_count": 1,
   "metadata": {},
   "outputs": [
    {
     "output_type": "stream",
     "name": "stdout",
     "text": [
      "Index(['ETER ID', 'Institution Name', 'English Institution Name',\n       'Reference year', 'Country Code', 'Geographic coordinates - latitude',\n       'Geographic coordinates - longitude', 'Total Current expenditure (PPP)',\n       'Basic government allocation (PPP)',\n       'Private third party funding (PPP)', 'Total Current revenues (PPP)',\n       'Total academic staff (FTE)', 'Total students enrolled ISCED 5-7',\n       'Total students enrolled at ISCED 8', 'R&D Expenditure (PPP)',\n       'Erasmus incoming students - ISCED 5',\n       'Erasmus incoming students - ISCED 6',\n       'Erasmus incoming students - ISCED 7',\n       'Erasmus incoming students - ISCED 8', 'Erasmus incoming staff',\n       'TOTAL ISCED8 ', 'Staff to student ratio',\n       'Doctorate to Stundents ratio', 'Doctorate to accademic staff',\n       'Research income', 'Proportion of international students',\n       'Proportion international staff', 'score_education', 'score_finanze',\n       'score_international', 'score_final'],\n      dtype='object')\n"
     ]
    }
   ],
   "source": [
    "import pandas as pd\n",
    "\n",
    "data = pd.read_excel(\"/home/rookie0x17/Scrivania/1sem/5-visual/progetto/data/pure-eter.xls\")\n",
    "print(data.columns)"
   ]
  },
  {
   "cell_type": "code",
   "execution_count": 6,
   "metadata": {},
   "outputs": [],
   "source": [
    "data_sorted = data.sort_values(\"score_final\" , ascending=False)\n"
   ]
  },
  {
   "cell_type": "code",
   "execution_count": 7,
   "metadata": {},
   "outputs": [
    {
     "output_type": "stream",
     "name": "stdout",
     "text": [
      "     ETER ID             Institution Name     English Institution Name  \\\n9132  UK0090     The University of Oxford     The University of Oxford   \n6183  UK0123    University College London    University College London   \n3101  UK0020  The University of Cambridge  The University of Cambridge   \n6092  UK0020  The University of Cambridge  The University of Cambridge   \n9099  UK0053      Imperial College London      Imperial College London   \n\n      Reference year Country Code Geographic coordinates - latitude  \\\n9132            2014           UK                           51.7548   \n6183            2015           UK                           51.5246   \n3101            2016           UK                           52.2042   \n6092            2015           UK                           52.2042   \n9099            2014           UK                           51.4988   \n\n     Geographic coordinates - longitude Total Current expenditure (PPP)  \\\n9132                           -1.25436                     1.21956e+09   \n6183                          -0.133712                     1.27153e+09   \n3101                           0.114802                     1.80061e+09   \n6092                           0.114802                     1.79365e+09   \n9099                          -0.174876                     8.15538e+08   \n\n     Basic government allocation (PPP) Private third party funding (PPP)  ...  \\\n9132                       1.93649e+08                       1.80749e+08  ...   \n6183                       2.10374e+08                       2.34483e+08  ...   \n3101                       1.86696e+08                        1.7078e+08  ...   \n6092                       2.08992e+08                       1.63391e+08  ...   \n9099                       1.63937e+08                        9.4371e+07  ...   \n\n     Staff to student ratio Doctorate to Stundents ratio  \\\n9132               0.047396                     0.021358   \n6183               0.048082                     0.010199   \n3101               0.055914                     0.083871   \n6092               0.054545                     0.090909   \n9099               0.058240                     0.053903   \n\n     Doctorate to accademic staff Research income  \\\n9132                    21.098765        0.000004   \n6183                    20.797980        0.000005   \n3101                    17.884615        0.000003   \n6092                    18.333333        0.000003   \n9099                    17.170213        0.000005   \n\n     Proportion of international students Proportion international staff  \\\n9132                             0.000117                       0.009877   \n6183                             0.001068                       0.016162   \n3101                             0.016774                       0.030769   \n6092                             0.020455                       0.025000   \n9099                             0.002292                       0.028723   \n\n     score_education score_finanze score_international   score_final  \n9132        3.177498  4.695126e+07            0.000184  4.695127e+07  \n6183        3.130843  4.343119e+07            0.000816  4.343120e+07  \n3101        2.706456  3.315268e+07            0.001708  3.315268e+07  \n6092        2.774545  3.179830e+07            0.001287  3.179831e+07  \n9099        2.595265  3.114912e+07            0.000177  3.114912e+07  \n\n[5 rows x 31 columns]\n"
     ]
    }
   ],
   "source": [
    "print(data_sorted.head(5))"
   ]
  },
  {
   "cell_type": "code",
   "execution_count": null,
   "metadata": {},
   "outputs": [],
   "source": []
  }
 ]
}