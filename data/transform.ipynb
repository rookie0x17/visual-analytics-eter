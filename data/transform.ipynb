{
 "metadata": {
  "language_info": {
   "codemirror_mode": {
    "name": "ipython",
    "version": 3
   },
   "file_extension": ".py",
   "mimetype": "text/x-python",
   "name": "python",
   "nbconvert_exporter": "python",
   "pygments_lexer": "ipython3",
   "version": "3.8.6-final"
  },
  "orig_nbformat": 2,
  "kernelspec": {
   "name": "python3",
   "display_name": "Python 3",
   "language": "python"
  }
 },
 "nbformat": 4,
 "nbformat_minor": 2,
 "cells": [
  {
   "cell_type": "code",
   "execution_count": 132,
   "metadata": {},
   "outputs": [
    {
     "output_type": "stream",
     "name": "stdout",
     "text": [
      "Index(['ETER_ID', 'institution_name', 'English Institution Name',\n       'reference_year', 'country_code', 'latitude', 'longitude',\n       'total_current_expenditure_PPP', 'basic_government_allocation_PPP',\n       'private_third_party_funding_PPP', 'total_current_revenues_PPP',\n       'total_academic_staff_FTE', 'total_students_enrolled_ISCED_5-7',\n       'total_students_enrolled_ISCED_8', 'ReD_expenditure_PPP',\n       'erasmus_incoming_students_ISCED_5',\n       'erasmus_incoming_students_ISCED_6',\n       'erasmus_incoming_students_ISCED_7',\n       'erasmus_incoming_students_ISCED_8', 'erasmus_incoming_staff',\n       'TOTAL_ISCED8 ', 'staff_to_student_ratio',\n       'doctorate_to_stundents_ratio', 'doctorate_to_accademic_staff',\n       'research_income', 'proportion_of_international_students',\n       'proportion_international_staff'],\n      dtype='object')\n"
     ]
    }
   ],
   "source": [
    "import pandas as pd\n",
    "\n",
    "data = pd.read_csv(\"db-alternativo.csv\")\n",
    "print(data.columns)"
   ]
  },
  {
   "cell_type": "code",
   "execution_count": 133,
   "metadata": {},
   "outputs": [
    {
     "output_type": "stream",
     "name": "stdout",
     "text": [
      "  total_current_expenditure_PPP basic_government_allocation_PPP  \\\n0                             m                               m   \n1                             m                               m   \n\n  private_third_party_funding_PPP total_current_revenues_PPP  \\\n0                               m                          m   \n1                               m                          m   \n\n  total_academic_staff_FTE total_students_enrolled_ISCED_5-7  \\\n0                        m                             26602   \n1                        m                              2915   \n\n  total_students_enrolled_ISCED_8 ReD_expenditure_PPP  \\\n0                               m                   m   \n1                               m                   m   \n\n  erasmus_incoming_students_ISCED_5 erasmus_incoming_students_ISCED_6  \\\n0                                 m                                 m   \n1                                 m                                 m   \n\n  erasmus_incoming_students_ISCED_7 erasmus_incoming_students_ISCED_8  \\\n0                                 m                                 m   \n1                                 m                                 m   \n\n  erasmus_incoming_staff TOTAL_ISCED8   \n0                      m       #VALUE!  \n1                      m       #VALUE!  \n"
     ]
    }
   ],
   "source": [
    "new_data = data.filter(['total_current_expenditure_PPP', 'basic_government_allocation_PPP',\n",
    "       'private_third_party_funding_PPP', 'total_current_revenues_PPP',\n",
    "       'total_academic_staff_FTE', 'total_students_enrolled_ISCED_5-7',\n",
    "       'total_students_enrolled_ISCED_8', 'ReD_expenditure_PPP',\n",
    "       'erasmus_incoming_students_ISCED_5',\n",
    "       'erasmus_incoming_students_ISCED_6',\n",
    "       'erasmus_incoming_students_ISCED_7',\n",
    "       'erasmus_incoming_students_ISCED_8', 'erasmus_incoming_staff',\n",
    "       'TOTAL_ISCED8 ' ] , axis=1)\n",
    "print(new_data.head(2))"
   ]
  },
  {
   "cell_type": "code",
   "execution_count": 134,
   "metadata": {},
   "outputs": [
    {
     "output_type": "stream",
     "name": "stdout",
     "text": [
      "  total_current_expenditure_PPP basic_government_allocation_PPP  \\\n0                             0                               0   \n1                             0                               0   \n\n  private_third_party_funding_PPP total_current_revenues_PPP  \\\n0                               0                          0   \n1                               0                          0   \n\n  total_academic_staff_FTE total_students_enrolled_ISCED_5-7  \\\n0                        0                             26602   \n1                        0                              2915   \n\n  total_students_enrolled_ISCED_8 ReD_expenditure_PPP  \\\n0                               0                   0   \n1                               0                   0   \n\n  erasmus_incoming_students_ISCED_5 erasmus_incoming_students_ISCED_6  \\\n0                                 0                                 0   \n1                                 0                                 0   \n\n  erasmus_incoming_students_ISCED_7 erasmus_incoming_students_ISCED_8  \\\n0                                 0                                 0   \n1                                 0                                 0   \n\n  erasmus_incoming_staff TOTAL_ISCED8   \n0                      0             0  \n1                      0             0  \n"
     ]
    }
   ],
   "source": [
    "\n",
    "newdata = new_data.apply(lambda x: x.str.replace(',','.'))\n",
    "newdata = newdata.replace([\"m\" , \"#VALUE!\" , \"xr\" , \"c\" , \"a\" , \"xc\" , \"x\" , \"nc\" , \"s\" , \"NaN\"] , 0)\n",
    "print(newdata.head(2))"
   ]
  },
  {
   "cell_type": "code",
   "execution_count": 140,
   "metadata": {},
   "outputs": [
    {
     "output_type": "stream",
     "name": "stdout",
     "text": [
      "[[-61329390.66232597    207794.19325403]\n [-61329391.57015833    207794.0330573 ]\n [-61329391.68187919    207794.01334231]\n ...\n [-47051992.36985031   2914079.76583623]\n [-43432663.34932193   3471558.38629743]\n [ 20023926.5752031  -10216383.46848916]]\n"
     ]
    }
   ],
   "source": [
    "import numpy as np\n",
    "from sklearn.decomposition import PCA\n",
    "\n",
    "pca = PCA(n_components=2)\n",
    "pca_of_data = pca.fit_transform(newdata)\n",
    "print(pca_of_data)"
   ]
  },
  {
   "cell_type": "code",
   "execution_count": 141,
   "metadata": {},
   "outputs": [
    {
     "output_type": "stream",
     "name": "stdout",
     "text": [
      "              x              y\n0 -6.132939e+07  207794.193254\n"
     ]
    }
   ],
   "source": [
    "pca_to_dataframe = pd.DataFrame(pca_of_data , columns=[\"x\" , \"y\"])\n",
    "print(pca_to_dataframe.head(1))"
   ]
  },
  {
   "cell_type": "code",
   "execution_count": 148,
   "metadata": {},
   "outputs": [
    {
     "output_type": "stream",
     "name": "stdout",
     "text": [
      "                     institution_name\n0  Université Nice - Sophia-Antipolis\n"
     ]
    }
   ],
   "source": [
    "toconcat = data.filter([\"institution_name\"])\n",
    "print(toconcat.head(1))"
   ]
  },
  {
   "cell_type": "code",
   "execution_count": 149,
   "metadata": {},
   "outputs": [],
   "source": [
    "pca_to_dataframe[\"institution_name\"] = toconcat"
   ]
  },
  {
   "cell_type": "code",
   "execution_count": 151,
   "metadata": {},
   "outputs": [],
   "source": [
    "pca_to_dataframe.to_csv(\"pca.csv\" , index=False)"
   ]
  },
  {
   "cell_type": "code",
   "execution_count": null,
   "metadata": {},
   "outputs": [],
   "source": []
  }
 ]
}