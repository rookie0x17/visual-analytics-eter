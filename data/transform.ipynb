{
 "metadata": {
  "language_info": {
   "codemirror_mode": {
    "name": "ipython",
    "version": 3
   },
   "file_extension": ".py",
   "mimetype": "text/x-python",
   "name": "python",
   "nbconvert_exporter": "python",
   "pygments_lexer": "ipython3",
   "version": "3.8.6-final"
  },
  "orig_nbformat": 2,
  "kernelspec": {
   "name": "python3",
   "display_name": "Python 3",
   "language": "python"
  }
 },
 "nbformat": 4,
 "nbformat_minor": 2,
 "cells": [
  {
   "cell_type": "code",
   "execution_count": 2,
   "metadata": {},
   "outputs": [
    {
     "output_type": "stream",
     "name": "stdout",
     "text": [
      "Index(['ETER_ID_year', 'ETER_ID', 'institution_name',\n       'english_institution_name', 'reference_year', 'country_code',\n       'name_of_the_city', 'latitude', 'longitude',\n       'personnel_expenditure(PPP)', 'non-personnel_expenditure(PPP)',\n       'expenditure_unclassified(PPP)', 'total_current_expenditure(PPP)',\n       'capital_expenditure_(PPP)', 'total_core_budget(PPP)',\n       'total_third_party_funding(PPP)', 'student_fees_funding(PPP)',\n       'revenue_unclassified(PPP)', 'total_current_revenues(PPP)',\n       'total_academic_staff(FTE)', 'total_staff_(FTE)',\n       'lowest_degree_delivered', 'highest_degree_delivered',\n       'total_students_enrolled_at_ISCED_5',\n       'total_students_enrolled_at_ISCED_6',\n       'total_students_enrolled_at_ISCED_7',\n       'total_students_enrolled_ISCED_7_longdegree',\n       'total_students_enrolled_ISCED_5-7', 'total_graduates_at_ISCED_5',\n       'total_graduates_at_ISCED_6', 'total_graduates_at_ISCED_7',\n       'total_graduates_at_ISCED_7_longdegree', 'total_graduates_ISCED_5-7',\n       'total_students_enrolled_at_ISCED_8', 'total_graduates_at_ISCED_8',\n       'share_of_women_students_ISCED_5-7', 'share_of_women_academic_staff',\n       'share_of_foreigners_students_ISCED_5-7', 'PhD_intensity',\n       'erasmus_total_incoming_students', 'erasmus_total_outgoing_students'],\n      dtype='object')\n"
     ]
    }
   ],
   "source": [
    "import pandas as pd\n",
    "\n",
    "data = pd.read_csv(\"FINALE.csv\")\n",
    "print(data.columns)"
   ]
  },
  {
   "cell_type": "code",
   "execution_count": 3,
   "metadata": {},
   "outputs": [
    {
     "output_type": "stream",
     "name": "stdout",
     "text": [
      "  total_current_revenues(PPP) total_academic_staff(FTE) total_staff_(FTE)  \\\n0                           m                         m                 m   \n1                           m                         m                 m   \n\n  total_students_enrolled_ISCED_5-7 total_graduates_ISCED_5-7  \\\n0                             26602                         m   \n1                              2915                         m   \n\n  total_students_enrolled_at_ISCED_8 total_graduates_at_ISCED_8  \\\n0                                  m                          m   \n1                                  m                          m   \n\n  erasmus_total_incoming_students erasmus_total_outgoing_students  \n0                               m                               m  \n1                               m                               m  \n"
     ]
    }
   ],
   "source": [
    "new_data = data.filter(['total_current_expenditure_(PPP)', 'total_current_revenues(PPP)',\n",
    "       'total_academic_staff(FTE)', 'total_staff_(FTE)',\n",
    "       'total_students_enrolled_ISCED_5-7', 'total_graduates_ISCED_5-7',\n",
    "       'total_students_enrolled_at_ISCED_8', 'total_graduates_at_ISCED_8',\n",
    "       'erasmus_total_incoming_students', 'erasmus_total_outgoing_students',\n",
    "        ] , axis=1)\n",
    "print(new_data.head(2))"
   ]
  },
  {
   "cell_type": "code",
   "execution_count": 4,
   "metadata": {},
   "outputs": [
    {
     "output_type": "stream",
     "name": "stdout",
     "text": [
      "  total_current_revenues(PPP) total_academic_staff(FTE) total_staff_(FTE)  \\\n0                           0                         0                 0   \n1                           0                         0                 0   \n\n  total_students_enrolled_ISCED_5-7 total_graduates_ISCED_5-7  \\\n0                             26602                         0   \n1                              2915                         0   \n\n  total_students_enrolled_at_ISCED_8 total_graduates_at_ISCED_8  \\\n0                                  0                          0   \n1                                  0                          0   \n\n  erasmus_total_incoming_students erasmus_total_outgoing_students  \n0                               0                               0  \n1                               0                               0  \n"
     ]
    }
   ],
   "source": [
    "\n",
    "newdata = new_data.apply(lambda x: x.str.replace(',','.'))\n",
    "newdata = newdata.replace([\"m\" , \"#VALUE!\" , \"xr\" , \"c\" , \"a\" , \"xc\" , \"x\" , \"nc\" , \"s\" , \"NaN\"] , 0)\n",
    "print(newdata.head(2))"
   ]
  },
  {
   "cell_type": "code",
   "execution_count": 5,
   "metadata": {},
   "outputs": [
    {
     "output_type": "stream",
     "name": "stdout",
     "text": [
      "[[-4.38466041e+07  2.15751062e+04]\n [-4.38466053e+07 -2.04439865e+03]\n [-4.38466054e+07 -4.95109248e+03]\n ...\n [-3.38879910e+07 -4.41525255e+03]\n [-3.11317986e+07 -4.22739231e+03]\n [ 1.49115697e+07 -6.89104229e+03]]\n"
     ]
    }
   ],
   "source": [
    "import numpy as np\n",
    "from sklearn.decomposition import PCA\n",
    "\n",
    "pca = PCA(n_components=2)\n",
    "pca_of_data = pca.fit_transform(newdata)\n",
    "print(pca_of_data)"
   ]
  },
  {
   "cell_type": "code",
   "execution_count": 6,
   "metadata": {},
   "outputs": [
    {
     "output_type": "stream",
     "name": "stdout",
     "text": [
      "              x             y\n0 -4.384660e+07  21575.106231\n"
     ]
    }
   ],
   "source": [
    "pca_to_dataframe = pd.DataFrame(pca_of_data , columns=[\"x\" , \"y\"])\n",
    "print(pca_to_dataframe.head(1))"
   ]
  },
  {
   "cell_type": "code",
   "execution_count": 7,
   "metadata": {},
   "outputs": [
    {
     "output_type": "stream",
     "name": "stdout",
     "text": [
      "                     institution_name ETER_ID  reference_year country_code\n0  Université Nice - Sophia-Antipolis  FR0001            2017           FR\n"
     ]
    }
   ],
   "source": [
    "toconcat = data.filter([\"institution_name\" , \"ETER_ID\" , \"reference_year\", \"country_code\"])\n",
    "print(toconcat.head(1))"
   ]
  },
  {
   "cell_type": "code",
   "execution_count": 8,
   "metadata": {},
   "outputs": [
    {
     "output_type": "stream",
     "name": "stdout",
     "text": [
      "              x             y                     institution_name ETER_ID  \\\n0 -4.384660e+07  21575.106231   Université Nice - Sophia-Antipolis  FR0001   \n1 -4.384661e+07  -2044.398647  Université de technologie de Troyes  FR0002   \n\n   reference_year country_code  \n0            2017           FR  \n1            2017           FR  \n"
     ]
    }
   ],
   "source": [
    "final = pd.concat([pca_to_dataframe, toconcat], axis=1 , ignore_index=False )\n",
    "print(final.head(2))"
   ]
  },
  {
   "cell_type": "code",
   "execution_count": 25,
   "metadata": {},
   "outputs": [],
   "source": [
    "final.to_csv(\"pca.csv\" , index=False)"
   ]
  },
  {
   "cell_type": "code",
   "execution_count": null,
   "metadata": {},
   "outputs": [],
   "source": []
  }
 ]
}